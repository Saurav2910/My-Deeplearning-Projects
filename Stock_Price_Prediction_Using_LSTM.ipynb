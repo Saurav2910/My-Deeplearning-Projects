{
  "nbformat": 4,
  "nbformat_minor": 0,
  "metadata": {
    "colab": {
      "name": "Stock Price Prediction Using LSTM.ipynb",
      "provenance": [],
      "collapsed_sections": [],
      "authorship_tag": "ABX9TyPVZxEGDvOyCik4bZuDJp48",
      "include_colab_link": true
    },
    "kernelspec": {
      "name": "python3",
      "display_name": "Python 3"
    }
  },
  "cells": [
    {
      "cell_type": "markdown",
      "metadata": {
        "id": "view-in-github",
        "colab_type": "text"
      },
      "source": [
        "<a href=\"https://colab.research.google.com/github/Saurav2910/My-Deeplearning-Projects/blob/main/Stock_Price_Prediction_Using_LSTM.ipynb\" target=\"_parent\"><img src=\"https://colab.research.google.com/assets/colab-badge.svg\" alt=\"Open In Colab\"/></a>"
      ]
    },
    {
      "cell_type": "code",
      "metadata": {
        "id": "2f7euVdPJBl1"
      },
      "source": [
        "import warnings\r\n",
        "warnings.filterwarnings('ignore')\r\n",
        "import pandas as pd\r\n",
        "import numpy as np\r\n",
        "import matplotlib.pyplot as plt\r\n",
        "import pandas_datareader as web\r\n",
        "import datetime as dt\r\n",
        "\r\n",
        "from sklearn.preprocessing import MinMaxScaler\r\n",
        "\r\n",
        "from keras.models import Sequential\r\n",
        "from keras.layers import Dense, Dropout, LSTM"
      ],
      "execution_count": 1,
      "outputs": []
    },
    {
      "cell_type": "markdown",
      "metadata": {
        "id": "gS1Vwb6TRVX2"
      },
      "source": [
        "# Load Data\r\n"
      ]
    },
    {
      "cell_type": "code",
      "metadata": {
        "id": "J-f_60eARO4g"
      },
      "source": [
        "company = \"FB\""
      ],
      "execution_count": 2,
      "outputs": []
    },
    {
      "cell_type": "code",
      "metadata": {
        "id": "dGxKMwrfReUh"
      },
      "source": [
        "start = dt.datetime(2012,1,1)\r\n",
        "end = dt.datetime(2020,1,1)"
      ],
      "execution_count": 3,
      "outputs": []
    },
    {
      "cell_type": "code",
      "metadata": {
        "id": "zMMut5hmSNaR"
      },
      "source": [
        "data = web.DataReader(company,'yahoo',start,end)"
      ],
      "execution_count": 4,
      "outputs": []
    },
    {
      "cell_type": "markdown",
      "metadata": {
        "id": "k4wyWKmGTUWS"
      },
      "source": [
        "#Prepare Data"
      ]
    },
    {
      "cell_type": "code",
      "metadata": {
        "id": "pPxZ101oTX2V"
      },
      "source": [
        "scaler = MinMaxScaler(feature_range=(0,1))\r\n",
        "scaled_data=scaler.fit_transform(data['Close'].values.reshape(-1,1))"
      ],
      "execution_count": 5,
      "outputs": []
    },
    {
      "cell_type": "code",
      "metadata": {
        "id": "aXLDU8JAfjZl"
      },
      "source": [
        "prediction_days=60"
      ],
      "execution_count": 6,
      "outputs": []
    },
    {
      "cell_type": "code",
      "metadata": {
        "id": "hQ_-K4HDfoUZ"
      },
      "source": [
        "x_train = []\r\n",
        "y_train = []"
      ],
      "execution_count": 7,
      "outputs": []
    },
    {
      "cell_type": "code",
      "metadata": {
        "id": "MYq71maYsMr9"
      },
      "source": [
        "for x in range(prediction_days,len(scaled_data)):\r\n",
        "  x_train.append(scaled_data[x-prediction_days:x,0])\r\n",
        "  y_train.append(scaled_data[x,0])"
      ],
      "execution_count": 8,
      "outputs": []
    },
    {
      "cell_type": "code",
      "metadata": {
        "id": "4Hp5n-wIs9uj"
      },
      "source": [
        "x_train,y_train = np.array(x_train),np.array(y_train)"
      ],
      "execution_count": 9,
      "outputs": []
    },
    {
      "cell_type": "code",
      "metadata": {
        "id": "X2jAYrVptPP4"
      },
      "source": [
        "x_train = np.reshape(x_train,(x_train.shape[0],x_train.shape[1],1))"
      ],
      "execution_count": 10,
      "outputs": []
    },
    {
      "cell_type": "code",
      "metadata": {
        "id": "-HRWqGKvt8ks"
      },
      "source": [
        ""
      ],
      "execution_count": null,
      "outputs": []
    },
    {
      "cell_type": "markdown",
      "metadata": {
        "id": "ROKXn8Npt-Jt"
      },
      "source": [
        "#Build the Model"
      ]
    },
    {
      "cell_type": "code",
      "metadata": {
        "id": "NZU1IV8ouCO3"
      },
      "source": [
        "model = Sequential()"
      ],
      "execution_count": 17,
      "outputs": []
    },
    {
      "cell_type": "code",
      "metadata": {
        "id": "CEvMIh3uuoW6"
      },
      "source": [
        "model.add(LSTM(units=50,return_sequences=True,input_shape=(x_train.shape[1],1)))\r\n",
        "model.add(Dropout(0.2))\r\n",
        "model.add(LSTM(units=50,return_sequences=True))\r\n",
        "model.add(Dropout(0.2))\r\n",
        "model.add(LSTM(units=50))\r\n",
        "model.add(Dropout(0.2))\r\n",
        "model.add(Dense(units=1))\r\n",
        "\r\n"
      ],
      "execution_count": 18,
      "outputs": []
    },
    {
      "cell_type": "code",
      "metadata": {
        "colab": {
          "base_uri": "https://localhost:8080/"
        },
        "id": "qqVPjPhL0J-b",
        "outputId": "91cd3b66-b27d-4d77-ba79-154f7c22d37c"
      },
      "source": [
        "model.compile(optimizer='adam',loss='mean_squared_error')\r\n",
        "model.fit(x_train,y_train,epochs=25,batch_size=32)"
      ],
      "execution_count": 21,
      "outputs": [
        {
          "output_type": "stream",
          "text": [
            "Epoch 1/25\n",
            "59/59 [==============================] - 9s 76ms/step - loss: 0.0633\n",
            "Epoch 2/25\n",
            "59/59 [==============================] - 5s 78ms/step - loss: 0.0050\n",
            "Epoch 3/25\n",
            "59/59 [==============================] - 5s 80ms/step - loss: 0.0041\n",
            "Epoch 4/25\n",
            "59/59 [==============================] - 5s 79ms/step - loss: 0.0038\n",
            "Epoch 5/25\n",
            "59/59 [==============================] - 5s 79ms/step - loss: 0.0035\n",
            "Epoch 6/25\n",
            "59/59 [==============================] - 5s 77ms/step - loss: 0.0033\n",
            "Epoch 7/25\n",
            "59/59 [==============================] - 5s 78ms/step - loss: 0.0031\n",
            "Epoch 8/25\n",
            "59/59 [==============================] - 5s 77ms/step - loss: 0.0032\n",
            "Epoch 9/25\n",
            "59/59 [==============================] - 4s 75ms/step - loss: 0.0032\n",
            "Epoch 10/25\n",
            "59/59 [==============================] - 5s 77ms/step - loss: 0.0027\n",
            "Epoch 11/25\n",
            "59/59 [==============================] - 4s 76ms/step - loss: 0.0027\n",
            "Epoch 12/25\n",
            "59/59 [==============================] - 4s 75ms/step - loss: 0.0028\n",
            "Epoch 13/25\n",
            "59/59 [==============================] - 5s 77ms/step - loss: 0.0053\n",
            "Epoch 14/25\n",
            "59/59 [==============================] - 4s 76ms/step - loss: 0.0023\n",
            "Epoch 15/25\n",
            "59/59 [==============================] - 4s 75ms/step - loss: 0.0025\n",
            "Epoch 16/25\n",
            "59/59 [==============================] - 4s 75ms/step - loss: 0.0024\n",
            "Epoch 17/25\n",
            "59/59 [==============================] - 4s 76ms/step - loss: 0.0026\n",
            "Epoch 18/25\n",
            "59/59 [==============================] - 5s 77ms/step - loss: 0.0022\n",
            "Epoch 19/25\n",
            "59/59 [==============================] - 5s 78ms/step - loss: 0.0022\n",
            "Epoch 20/25\n",
            "59/59 [==============================] - 4s 75ms/step - loss: 0.0021\n",
            "Epoch 21/25\n",
            "59/59 [==============================] - 4s 76ms/step - loss: 0.0026\n",
            "Epoch 22/25\n",
            "59/59 [==============================] - 4s 75ms/step - loss: 0.0023\n",
            "Epoch 23/25\n",
            "59/59 [==============================] - 4s 75ms/step - loss: 0.0023\n",
            "Epoch 24/25\n",
            "59/59 [==============================] - 5s 76ms/step - loss: 0.0020\n",
            "Epoch 25/25\n",
            "59/59 [==============================] - 4s 76ms/step - loss: 0.0023\n"
          ],
          "name": "stdout"
        },
        {
          "output_type": "execute_result",
          "data": {
            "text/plain": [
              "<tensorflow.python.keras.callbacks.History at 0x7f8c71d26f50>"
            ]
          },
          "metadata": {
            "tags": []
          },
          "execution_count": 21
        }
      ]
    },
    {
      "cell_type": "markdown",
      "metadata": {
        "id": "Bzjmz1Rh1_k2"
      },
      "source": [
        "#Load Test Data"
      ]
    },
    {
      "cell_type": "code",
      "metadata": {
        "id": "qEqmOrgN18-f"
      },
      "source": [
        "test_start = dt.datetime(2020,1,1)\r\n",
        "test_end = dt.datetime.now()"
      ],
      "execution_count": 22,
      "outputs": []
    },
    {
      "cell_type": "code",
      "metadata": {
        "id": "Mxp-ysGD2FHK"
      },
      "source": [
        "test_data = web.DataReader(company,'yahoo',test_start,test_end)\r\n",
        "actual_prices = test_data['Close'].values"
      ],
      "execution_count": 23,
      "outputs": []
    },
    {
      "cell_type": "code",
      "metadata": {
        "id": "FxR211vu3geZ"
      },
      "source": [
        "total_dataset = pd.concat((data['Close'],test_data['Close']),axis=0)"
      ],
      "execution_count": 24,
      "outputs": []
    },
    {
      "cell_type": "code",
      "metadata": {
        "id": "grFmlEjx4EIY"
      },
      "source": [
        "model_inputs = total_dataset[len(total_dataset)-len(test_data)-prediction_days:].values\r\n",
        "model_inputs = model_inputs.reshape(-1,1)\r\n",
        "model_inputs = scaler.transform(model_inputs)"
      ],
      "execution_count": 26,
      "outputs": []
    },
    {
      "cell_type": "markdown",
      "metadata": {
        "id": "mGqaW5WR5kt-"
      },
      "source": [
        "# Make Predication on Test data"
      ]
    },
    {
      "cell_type": "code",
      "metadata": {
        "id": "TumlXgdW5S99"
      },
      "source": [
        "x_test = []"
      ],
      "execution_count": 27,
      "outputs": []
    },
    {
      "cell_type": "code",
      "metadata": {
        "id": "sJ6NHTHR6ccG"
      },
      "source": [
        "for x in range(prediction_days,len(model_inputs)):\r\n",
        "  x_test.append(model_inputs[x-prediction_days:x,0])"
      ],
      "execution_count": 28,
      "outputs": []
    },
    {
      "cell_type": "code",
      "metadata": {
        "id": "t-Flp_K49r-P"
      },
      "source": [
        "x_test = np.array(x_test)\r\n",
        "x_test = np.reshape(x_test,(x_test.shape[0],x_test.shape[1],1))"
      ],
      "execution_count": 29,
      "outputs": []
    },
    {
      "cell_type": "code",
      "metadata": {
        "id": "Pmx7i1hQ-MPe"
      },
      "source": [
        "predicted_prices = model.predict(x_test)\r\n",
        "predicted_prices = scaler.inverse_transform(predicted_prices)"
      ],
      "execution_count": 30,
      "outputs": []
    },
    {
      "cell_type": "markdown",
      "metadata": {
        "id": "Dekz58Kv-uDk"
      },
      "source": [
        "# Plot the Predictions"
      ]
    },
    {
      "cell_type": "code",
      "metadata": {
        "colab": {
          "base_uri": "https://localhost:8080/",
          "height": 296
        },
        "id": "EcPPEmtH-sHn",
        "outputId": "3e7f58eb-0aea-4f18-885c-4114b5b7d458"
      },
      "source": [
        "plt.plot(actual_prices,color=\"black\")\r\n",
        "plt.plot(predicted_prices,color=\"green\")\r\n",
        "plt.xlabel('Time')\r\n",
        "plt.ylabel('Stock Price')\r\n",
        "plt.legend()\r\n",
        "plt.show()"
      ],
      "execution_count": 34,
      "outputs": [
        {
          "output_type": "stream",
          "text": [
            "No handles with labels found to put in legend.\n"
          ],
          "name": "stderr"
        },
        {
          "output_type": "display_data",
          "data": {
            "image/png": "[encoded data removed]",
            "text/plain": [
              "<Figure size 432x288 with 1 Axes>"
            ]
          },
          "metadata": {
            "tags": [],
            "needs_background": "light"
          }
        }
      ]
    },
    {
      "cell_type": "code",
      "metadata": {
        "id": "10Ka2lLz-yYk"
      },
      "source": [
        ""
      ],
      "execution_count": null,
      "outputs": []
    }
  ]
}